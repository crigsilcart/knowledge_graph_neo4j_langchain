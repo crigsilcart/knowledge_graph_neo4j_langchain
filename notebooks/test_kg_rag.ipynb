{
 "cells": [
  {
   "cell_type": "code",
   "execution_count": 1,
   "metadata": {},
   "outputs": [
    {
     "name": "stderr",
     "output_type": "stream",
     "text": [
      "/Users/cristhiansilvac./Documents/code/KnowledgeGraph/.venv/lib/python3.9/site-packages/urllib3/__init__.py:34: NotOpenSSLWarning: urllib3 v2 only supports OpenSSL 1.1.1+, currently the 'ssl' module is compiled with 'LibreSSL 2.8.3'. See: https://github.com/urllib3/urllib3/issues/3020\n",
      "  warnings.warn(\n"
     ]
    }
   ],
   "source": [
    "from langchain.chains import GraphCypherQAChain\n",
    "from langchain_community.graphs import Neo4jGraph\n",
    "from langchain_openai import ChatOpenAI\n",
    "import os\n",
    "from dotenv import load_dotenv\n",
    "\n",
    "_ = load_dotenv(override=True)"
   ]
  },
  {
   "cell_type": "code",
   "execution_count": 8,
   "metadata": {},
   "outputs": [
    {
     "ename": "ValueError",
     "evalue": "Could not use APOC procedures. Please ensure the APOC plugin is installed in Neo4j and that 'apoc.meta.data()' is allowed in Neo4j configuration ",
     "output_type": "error",
     "traceback": [
      "\u001b[0;31m---------------------------------------------------------------------------\u001b[0m",
      "\u001b[0;31mClientError\u001b[0m                               Traceback (most recent call last)",
      "File \u001b[0;32m~/Documents/code/KnowledgeGraph/.venv/lib/python3.9/site-packages/langchain_community/graphs/neo4j_graph.py:89\u001b[0m, in \u001b[0;36mNeo4jGraph.__init__\u001b[0;34m(self, url, username, password, database)\u001b[0m\n\u001b[1;32m     88\u001b[0m \u001b[39mtry\u001b[39;00m:\n\u001b[0;32m---> 89\u001b[0m     \u001b[39mself\u001b[39;49m\u001b[39m.\u001b[39;49mrefresh_schema()\n\u001b[1;32m     90\u001b[0m \u001b[39mexcept\u001b[39;00m neo4j\u001b[39m.\u001b[39mexceptions\u001b[39m.\u001b[39mClientError:\n",
      "File \u001b[0;32m~/Documents/code/KnowledgeGraph/.venv/lib/python3.9/site-packages/langchain_community/graphs/neo4j_graph.py:122\u001b[0m, in \u001b[0;36mNeo4jGraph.refresh_schema\u001b[0;34m(self)\u001b[0m\n\u001b[1;32m    119\u001b[0m \u001b[39m\u001b[39m\u001b[39m\"\"\"\u001b[39;00m\n\u001b[1;32m    120\u001b[0m \u001b[39mRefreshes the Neo4j graph schema information.\u001b[39;00m\n\u001b[1;32m    121\u001b[0m \u001b[39m\"\"\"\u001b[39;00m\n\u001b[0;32m--> 122\u001b[0m node_properties \u001b[39m=\u001b[39m [el[\u001b[39m\"\u001b[39m\u001b[39moutput\u001b[39m\u001b[39m\"\u001b[39m] \u001b[39mfor\u001b[39;00m el \u001b[39min\u001b[39;00m \u001b[39mself\u001b[39;49m\u001b[39m.\u001b[39;49mquery(node_properties_query)]\n\u001b[1;32m    123\u001b[0m rel_properties \u001b[39m=\u001b[39m [el[\u001b[39m\"\u001b[39m\u001b[39moutput\u001b[39m\u001b[39m\"\u001b[39m] \u001b[39mfor\u001b[39;00m el \u001b[39min\u001b[39;00m \u001b[39mself\u001b[39m\u001b[39m.\u001b[39mquery(rel_properties_query)]\n",
      "File \u001b[0;32m~/Documents/code/KnowledgeGraph/.venv/lib/python3.9/site-packages/langchain_community/graphs/neo4j_graph.py:114\u001b[0m, in \u001b[0;36mNeo4jGraph.query\u001b[0;34m(self, query, params)\u001b[0m\n\u001b[1;32m    113\u001b[0m     data \u001b[39m=\u001b[39m session\u001b[39m.\u001b[39mrun(query, params)\n\u001b[0;32m--> 114\u001b[0m     \u001b[39mreturn\u001b[39;00m [r\u001b[39m.\u001b[39mdata() \u001b[39mfor\u001b[39;00m r \u001b[39min\u001b[39;00m data]\n\u001b[1;32m    115\u001b[0m \u001b[39mexcept\u001b[39;00m CypherSyntaxError \u001b[39mas\u001b[39;00m e:\n",
      "File \u001b[0;32m~/Documents/code/KnowledgeGraph/.venv/lib/python3.9/site-packages/langchain_community/graphs/neo4j_graph.py:114\u001b[0m, in \u001b[0;36m<listcomp>\u001b[0;34m(.0)\u001b[0m\n\u001b[1;32m    113\u001b[0m     data \u001b[39m=\u001b[39m session\u001b[39m.\u001b[39mrun(query, params)\n\u001b[0;32m--> 114\u001b[0m     \u001b[39mreturn\u001b[39;00m [r\u001b[39m.\u001b[39mdata() \u001b[39mfor\u001b[39;00m r \u001b[39min\u001b[39;00m data]\n\u001b[1;32m    115\u001b[0m \u001b[39mexcept\u001b[39;00m CypherSyntaxError \u001b[39mas\u001b[39;00m e:\n",
      "File \u001b[0;32m~/Documents/code/KnowledgeGraph/.venv/lib/python3.9/site-packages/neo4j/_sync/work/result.py:270\u001b[0m, in \u001b[0;36mResult.__iter__\u001b[0;34m(self)\u001b[0m\n\u001b[1;32m    269\u001b[0m \u001b[39melif\u001b[39;00m \u001b[39mself\u001b[39m\u001b[39m.\u001b[39m_streaming:\n\u001b[0;32m--> 270\u001b[0m     \u001b[39mself\u001b[39;49m\u001b[39m.\u001b[39;49m_connection\u001b[39m.\u001b[39;49mfetch_message()\n\u001b[1;32m    271\u001b[0m \u001b[39melif\u001b[39;00m \u001b[39mself\u001b[39m\u001b[39m.\u001b[39m_discarding:\n",
      "File \u001b[0;32m~/Documents/code/KnowledgeGraph/.venv/lib/python3.9/site-packages/neo4j/_sync/io/_common.py:178\u001b[0m, in \u001b[0;36mConnectionErrorHandler.__getattr__.<locals>.outer.<locals>.inner\u001b[0;34m(*args, **kwargs)\u001b[0m\n\u001b[1;32m    177\u001b[0m \u001b[39mtry\u001b[39;00m:\n\u001b[0;32m--> 178\u001b[0m     func(\u001b[39m*\u001b[39;49margs, \u001b[39m*\u001b[39;49m\u001b[39m*\u001b[39;49mkwargs)\n\u001b[1;32m    179\u001b[0m \u001b[39mexcept\u001b[39;00m (Neo4jError, ServiceUnavailable, SessionExpired) \u001b[39mas\u001b[39;00m exc:\n",
      "File \u001b[0;32m~/Documents/code/KnowledgeGraph/.venv/lib/python3.9/site-packages/neo4j/_sync/io/_bolt.py:849\u001b[0m, in \u001b[0;36mBolt.fetch_message\u001b[0;34m(self)\u001b[0m\n\u001b[1;32m    846\u001b[0m tag, fields \u001b[39m=\u001b[39m \u001b[39mself\u001b[39m\u001b[39m.\u001b[39minbox\u001b[39m.\u001b[39mpop(\n\u001b[1;32m    847\u001b[0m     hydration_hooks\u001b[39m=\u001b[39m\u001b[39mself\u001b[39m\u001b[39m.\u001b[39mresponses[\u001b[39m0\u001b[39m]\u001b[39m.\u001b[39mhydration_hooks\n\u001b[1;32m    848\u001b[0m )\n\u001b[0;32m--> 849\u001b[0m res \u001b[39m=\u001b[39m \u001b[39mself\u001b[39;49m\u001b[39m.\u001b[39;49m_process_message(tag, fields)\n\u001b[1;32m    850\u001b[0m \u001b[39mself\u001b[39m\u001b[39m.\u001b[39midle_since \u001b[39m=\u001b[39m monotonic()\n",
      "File \u001b[0;32m~/Documents/code/KnowledgeGraph/.venv/lib/python3.9/site-packages/neo4j/_sync/io/_bolt5.py:369\u001b[0m, in \u001b[0;36mBolt5x0._process_message\u001b[0;34m(self, tag, fields)\u001b[0m\n\u001b[1;32m    368\u001b[0m \u001b[39mtry\u001b[39;00m:\n\u001b[0;32m--> 369\u001b[0m     response\u001b[39m.\u001b[39;49mon_failure(summary_metadata \u001b[39mor\u001b[39;49;00m {})\n\u001b[1;32m    370\u001b[0m \u001b[39mexcept\u001b[39;00m (ServiceUnavailable, DatabaseUnavailable):\n",
      "File \u001b[0;32m~/Documents/code/KnowledgeGraph/.venv/lib/python3.9/site-packages/neo4j/_sync/io/_common.py:245\u001b[0m, in \u001b[0;36mResponse.on_failure\u001b[0;34m(self, metadata)\u001b[0m\n\u001b[1;32m    244\u001b[0m Util\u001b[39m.\u001b[39mcallback(handler)\n\u001b[0;32m--> 245\u001b[0m \u001b[39mraise\u001b[39;00m Neo4jError\u001b[39m.\u001b[39mhydrate(\u001b[39m*\u001b[39m\u001b[39m*\u001b[39mmetadata)\n",
      "\u001b[0;31mClientError\u001b[0m: {code: Neo.ClientError.Procedure.ProcedureCallFailed} {message: Failed to invoke procedure `apoc.meta.data`: Caused by: java.lang.IllegalArgumentException: duplicate element: RELATIONSHIP}",
      "\nDuring handling of the above exception, another exception occurred:\n",
      "\u001b[0;31mValueError\u001b[0m                                Traceback (most recent call last)",
      "\u001b[1;32m/Users/cristhiansilvac./Documents/code/KnowledgeGraph/notebooks/test_kg_rag.ipynb Cell 2\u001b[0m line \u001b[0;36m5\n\u001b[1;32m      <a href='vscode-notebook-cell:/Users/cristhiansilvac./Documents/code/KnowledgeGraph/notebooks/test_kg_rag.ipynb#W2sZmlsZQ%3D%3D?line=1'>2</a>\u001b[0m username \u001b[39m=\u001b[39m os\u001b[39m.\u001b[39mgetenv(\u001b[39m\"\u001b[39m\u001b[39mNEO4J_USER\u001b[39m\u001b[39m\"\u001b[39m)\n\u001b[1;32m      <a href='vscode-notebook-cell:/Users/cristhiansilvac./Documents/code/KnowledgeGraph/notebooks/test_kg_rag.ipynb#W2sZmlsZQ%3D%3D?line=2'>3</a>\u001b[0m password \u001b[39m=\u001b[39m os\u001b[39m.\u001b[39mgetenv(\u001b[39m\"\u001b[39m\u001b[39mNEO4J_PASSWORD\u001b[39m\u001b[39m\"\u001b[39m)\n\u001b[0;32m----> <a href='vscode-notebook-cell:/Users/cristhiansilvac./Documents/code/KnowledgeGraph/notebooks/test_kg_rag.ipynb#W2sZmlsZQ%3D%3D?line=4'>5</a>\u001b[0m graph \u001b[39m=\u001b[39m Neo4jGraph(url\u001b[39m=\u001b[39;49murl,\n\u001b[1;32m      <a href='vscode-notebook-cell:/Users/cristhiansilvac./Documents/code/KnowledgeGraph/notebooks/test_kg_rag.ipynb#W2sZmlsZQ%3D%3D?line=5'>6</a>\u001b[0m     username\u001b[39m=\u001b[39;49musername,\n\u001b[1;32m      <a href='vscode-notebook-cell:/Users/cristhiansilvac./Documents/code/KnowledgeGraph/notebooks/test_kg_rag.ipynb#W2sZmlsZQ%3D%3D?line=6'>7</a>\u001b[0m     password\u001b[39m=\u001b[39;49mpassword)\n",
      "File \u001b[0;32m~/Documents/code/KnowledgeGraph/.venv/lib/python3.9/site-packages/langchain_community/graphs/neo4j_graph.py:91\u001b[0m, in \u001b[0;36mNeo4jGraph.__init__\u001b[0;34m(self, url, username, password, database)\u001b[0m\n\u001b[1;32m     89\u001b[0m     \u001b[39mself\u001b[39m\u001b[39m.\u001b[39mrefresh_schema()\n\u001b[1;32m     90\u001b[0m \u001b[39mexcept\u001b[39;00m neo4j\u001b[39m.\u001b[39mexceptions\u001b[39m.\u001b[39mClientError:\n\u001b[0;32m---> 91\u001b[0m     \u001b[39mraise\u001b[39;00m \u001b[39mValueError\u001b[39;00m(\n\u001b[1;32m     92\u001b[0m         \u001b[39m\"\u001b[39m\u001b[39mCould not use APOC procedures. \u001b[39m\u001b[39m\"\u001b[39m\n\u001b[1;32m     93\u001b[0m         \u001b[39m\"\u001b[39m\u001b[39mPlease ensure the APOC plugin is installed in Neo4j and that \u001b[39m\u001b[39m\"\u001b[39m\n\u001b[1;32m     94\u001b[0m         \u001b[39m\"\u001b[39m\u001b[39m'\u001b[39m\u001b[39mapoc.meta.data()\u001b[39m\u001b[39m'\u001b[39m\u001b[39m is allowed in Neo4j configuration \u001b[39m\u001b[39m\"\u001b[39m\n\u001b[1;32m     95\u001b[0m     )\n",
      "\u001b[0;31mValueError\u001b[0m: Could not use APOC procedures. Please ensure the APOC plugin is installed in Neo4j and that 'apoc.meta.data()' is allowed in Neo4j configuration "
     ]
    }
   ],
   "source": [
    "\n",
    "url = os.getenv(\"NEO4J_URI\")\n",
    "username = os.getenv(\"NEO4J_USER\")\n",
    "password = os.getenv(\"NEO4J_PASSWORD\")\n",
    "\n",
    "graph = Neo4jGraph(url=url,\n",
    "    username=username,\n",
    "    password=password)"
   ]
  },
  {
   "cell_type": "code",
   "execution_count": 4,
   "metadata": {},
   "outputs": [],
   "source": [
    "llm = ChatOpenAI(\n",
    "    model=\"gpt-3.5-turbo-0613\",\n",
    "    temperature=0\n",
    ")"
   ]
  },
  {
   "cell_type": "code",
   "execution_count": 5,
   "metadata": {},
   "outputs": [],
   "source": [
    "cypher_chain = GraphCypherQAChain.from_llm(\n",
    "    graph=graph,\n",
    "    cypher_llm=llm,\n",
    "    qa_llm=llm,\n",
    "    validate_cypher=True,\n",
    "    verbose=True\n",
    ")"
   ]
  },
  {
   "cell_type": "code",
   "execution_count": 7,
   "metadata": {},
   "outputs": [
    {
     "name": "stdout",
     "output_type": "stream",
     "text": [
      "\n",
      "\n",
      "\u001b[1m> Entering new GraphCypherQAChain chain...\u001b[0m\n",
      "Generated Cypher:\n",
      "\u001b[32;1m\u001b[1;3m\u001b[0m\n",
      "Full Context:\n",
      "\u001b[32;1m\u001b[1;3m[]\u001b[0m\n",
      "\n",
      "\u001b[1m> Finished chain.\u001b[0m\n"
     ]
    },
    {
     "data": {
      "text/plain": [
       "{'query': 'what did Einstein influence to?',\n",
       " 'result': \"Einstein influenced various fields, including physics, mathematics, and philosophy. His groundbreaking theories, such as the theory of relativity, revolutionized our understanding of the universe and paved the way for advancements in technology and scientific research. Additionally, his work had a profound impact on the development of nuclear energy and the creation of the atomic bomb. Einstein's influence extended beyond academia, as he also played a significant role in promoting peace, civil rights, and humanitarian causes.\"}"
      ]
     },
     "execution_count": 7,
     "metadata": {},
     "output_type": "execute_result"
    }
   ],
   "source": [
    "cypher_chain.invoke({\"query\": \"what did Einstein influence to?\"})"
   ]
  }
 ],
 "metadata": {
  "kernelspec": {
   "display_name": ".venv",
   "language": "python",
   "name": "python3"
  },
  "language_info": {
   "codemirror_mode": {
    "name": "ipython",
    "version": 3
   },
   "file_extension": ".py",
   "mimetype": "text/x-python",
   "name": "python",
   "nbconvert_exporter": "python",
   "pygments_lexer": "ipython3",
   "version": "3.9.6"
  }
 },
 "nbformat": 4,
 "nbformat_minor": 2
}
